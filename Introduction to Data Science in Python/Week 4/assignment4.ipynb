{
 "cells": [
  {
   "cell_type": "markdown",
   "metadata": {
    "deletable": false,
    "editable": false,
    "nbgrader": {
     "checksum": "48770f8b5f5d3062d3badd51fcafc401",
     "grade": false,
     "grade_id": "cell-a6c4f74309fc2379",
     "locked": true,
     "schema_version": 1,
     "solution": false
    }
   },
   "source": [
    "# Assignment 4\n",
    "## Description\n",
    "In this assignment you must read in a file of metropolitan regions and associated sports teams from [assets/wikipedia_data.html](assets/wikipedia_data.html) and answer some questions about each metropolitan region. Each of these regions may have one or more teams from the \"Big 4\": NFL (football, in [assets/nfl.csv](assets/nfl.csv)), MLB (baseball, in [assets/mlb.csv](assets/mlb.csv)), NBA (basketball, in [assets/nba.csv](assets/nba.csv) or NHL (hockey, in [assets/nhl.csv](assets/nhl.csv)). Please keep in mind that all questions are from the perspective of the metropolitan region, and that this file is the \"source of authority\" for the location of a given sports team. Thus teams which are commonly known by a different area (e.g. \"Oakland Raiders\") need to be mapped into the metropolitan region given (e.g. San Francisco Bay Area). This will require some human data understanding outside of the data you've been given (e.g. you will have to hand-code some names, and might need to google to find out where teams are)!\n",
    "\n",
    "For each sport I would like you to answer the question: **what is the win/loss ratio's correlation with the population of the city it is in?** Win/Loss ratio refers to the number of wins over the number of wins plus the number of losses. Remember that to calculate the correlation with [`pearsonr`](https://docs.scipy.org/doc/scipy/reference/generated/scipy.stats.pearsonr.html), so you are going to send in two ordered lists of values, the populations from the wikipedia_data.html file and the win/loss ratio for a given sport in the same order. Average the win/loss ratios for those cities which have multiple teams of a single sport. Each sport is worth an equal amount in this assignment (20%\\*4=80%) of the grade for this assignment. You should only use data **from year 2018** for your analysis -- this is important!\n",
    "\n",
    "## Notes\n",
    "\n",
    "1. Do not include data about the MLS or CFL in any of the work you are doing, we're only interested in the Big 4 in this assignment.\n",
    "2. I highly suggest that you first tackle the four correlation questions in order, as they are all similar and worth the majority of grades for this assignment. This is by design!\n",
    "3. It's fair game to talk with peers about high level strategy as well as the relationship between metropolitan areas and sports teams. However, do not post code solving aspects of the assignment (including such as dictionaries mapping areas to teams, or regexes which will clean up names).\n",
    "4. There may be more teams than the assert statements test, remember to collapse multiple teams in one city into a single value!"
   ]
  },
  {
   "cell_type": "markdown",
   "metadata": {
    "deletable": false,
    "editable": false,
    "nbgrader": {
     "checksum": "369ff9ecf0ee04640574205cbc697f94",
     "grade": false,
     "grade_id": "cell-712b2b5da63d4505",
     "locked": true,
     "schema_version": 1,
     "solution": false
    }
   },
   "source": [
    "## Question 1\n",
    "For this question, calculate the win/loss ratio's correlation with the population of the city it is in for the **NHL** using **2018** data."
   ]
  },
  {
   "cell_type": "code",
   "execution_count": 1,
   "metadata": {
    "deletable": false,
    "nbgrader": {
     "checksum": "1cac4803b02502929f5b1612d48db2b5",
     "grade": false,
     "grade_id": "cell-69b16e4386e58030",
     "locked": false,
     "schema_version": 1,
     "solution": true
    },
    "scrolled": true
   },
   "outputs": [],
   "source": [
    "import pandas as pd\n",
    "import numpy as np\n",
    "import scipy.stats as stats\n",
    "import re\n",
    "\n",
    "nhl_df=pd.read_csv(\"assets/nhl.csv\")\n",
    "cities=pd.read_html(\"assets/wikipedia_data.html\")[1]\n",
    "cities=cities.iloc[:-1,[0,3,5,6,7,8]]\n",
    "\n",
    "\n",
    "nhl_df = nhl_df[nhl_df.year == 2018]\n",
    "nhl_df = nhl_df[nhl_df.columns[:4]]\n",
    "nhl_df.team.replace(to_replace='\\*', value='', regex=True, inplace=True)\n",
    "nhl_df.replace({'Tampa Bay Lightning': 'Lightning',\n",
    "                 'Boston Bruins': 'Bruins',\n",
    "                 'Toronto Maple Leafs': 'Maple Leafs',\n",
    "                 'Florida Panthers': 'Panthers',\n",
    "                 'Detroit Red Wings': 'Red Wings',\n",
    "                 'Montreal Canadiens': 'Canadiens',\n",
    "                 'Ottawa Senators': 'Senators',\n",
    "                 'Buffalo Sabres': 'Sabres',\n",
    "                 'Washington Capitals': 'Capitals',\n",
    "                 'Pittsburgh Penguins': 'Penguins',\n",
    "                 'Philadelphia Flyers': 'Flyers',\n",
    "                 'Columbus Blue Jackets': 'Blue Jackets',\n",
    "                 'New Jersey Devils': 'Devils',\n",
    "                 'Carolina Hurricanes': 'Hurricanes',\n",
    "                 'New York Islanders': 'Islanders',\n",
    "                 'New York Rangers': 'Rangers',\n",
    "                 'Nashville Predators': 'Predators',\n",
    "                 'Winnipeg Jets': 'Jets',\n",
    "                 'Minnesota Wild': 'Wild',\n",
    "                 'Colorado Avalanche': 'Avalanche',\n",
    "                 'St. Louis Blues': 'Blues',\n",
    "                 'Dallas Stars': 'Stars',\n",
    "                 'Chicago Blackhawks': 'Blackhawks',\n",
    "                 'Vegas Golden Knights': 'Golden Knights',\n",
    "                 'Anaheim Ducks': 'Ducks',\n",
    "                 'San Jose Sharks': 'Sharks',\n",
    "                 'Los Angeles Kings': 'Kings',\n",
    "                 'Calgary Flames': 'Flames',\n",
    "                 'Edmonton Oilers': 'Oilers',\n",
    "                 'Vancouver Canucks': 'Canucks',\n",
    "                 'Arizona Coyotes': 'Coyotes'\n",
    "                 }, inplace=True)\n",
    "\n",
    "\n",
    "cities = cities[cities.columns[[0, 1, -1]]]\n",
    "cities = cities.replace(to_replace='\\[(.*?)\\]', value='', regex=True)\n",
    "cities = cities.replace({'—': np.NaN, '': np.NaN}).dropna()\n",
    "cities.rename(columns={cities.columns[1]: 'population', cities.columns[0]: 'area'}, inplace=True)\n",
    "cities.loc[0].NHL = ['Rangers', 'Islanders', 'Devils']\n",
    "cities.loc[1].NHL = ['Kings', 'Ducks']\n",
    "cities = cities.explode('NHL').reset_index(drop=True)\n",
    "cities.rename(columns={'NHL': 'team'}, inplace=True)\n",
    "\n",
    "df = pd.merge(nhl_df, cities, on='team')\n",
    "columns = ['GP', 'W', 'L', 'population']\n",
    "for col in columns:\n",
    "    df[col] = pd.to_numeric(df[col])\n",
    "df['win_rate'] = df.W / (df.W + df.L)\n",
    "\n",
    "def nhl_correlation(): \n",
    "    global data_nhl\n",
    "    data_nhl = df.groupby('area').mean()[['population', 'win_rate']]\n",
    "    \n",
    "    \n",
    "    population_by_region = [i for i in data_nhl.population] # pass in metropolitan area population from cities\n",
    "    win_loss_by_region = [i for i in data_nhl.win_rate] # pass in win/loss ratio from nhl_df in the same order as cities[\"Metropolitan area\"]\n",
    "\n",
    "    assert len(population_by_region) == len(win_loss_by_region), \"Q1: Your lists must be the same length\"\n",
    "    assert len(population_by_region) == 28, \"Q1: There should be 28 teams being analysed for NHL\"\n",
    "\n",
    "    return stats.pearsonr(population_by_region, win_loss_by_region)[0]"
   ]
  },
  {
   "cell_type": "code",
   "execution_count": null,
   "metadata": {
    "deletable": false,
    "editable": false,
    "nbgrader": {
     "checksum": "52a581df513c71153e105b93764cda4b",
     "grade": true,
     "grade_id": "cell-ebe0b2dfe1067e63",
     "locked": true,
     "points": 20,
     "schema_version": 1,
     "solution": false
    }
   },
   "outputs": [],
   "source": []
  },
  {
   "cell_type": "markdown",
   "metadata": {
    "deletable": false,
    "editable": false,
    "nbgrader": {
     "checksum": "988912cae4968d81473f46d783e79c16",
     "grade": false,
     "grade_id": "cell-cb964e690298b71d",
     "locked": true,
     "schema_version": 1,
     "solution": false
    }
   },
   "source": [
    "## Question 2\n",
    "For this question, calculate the win/loss ratio's correlation with the population of the city it is in for the **NBA** using **2018** data."
   ]
  },
  {
   "cell_type": "code",
   "execution_count": 2,
   "metadata": {
    "deletable": false,
    "nbgrader": {
     "checksum": "9394222aafc8ccab0a228098ba0d6010",
     "grade": false,
     "grade_id": "cell-5a5f21279e3d3572",
     "locked": false,
     "schema_version": 1,
     "solution": true
    }
   },
   "outputs": [],
   "source": [
    "import pandas as pd\n",
    "import numpy as np\n",
    "import scipy.stats as stats\n",
    "import re\n",
    "\n",
    "nba_df=pd.read_csv(\"assets/nba.csv\")\n",
    "cities=pd.read_html(\"assets/wikipedia_data.html\")[1]\n",
    "cities=cities.iloc[:-1,[0,3,5,6,7,8]]\n",
    "\n",
    "nba_df = nba_df[nba_df.year==2018]\n",
    "nba_df = nba_df[nba_df.columns[:4]]\n",
    "nba_df.replace(to_replace='\\*?\\s\\(\\d+\\)', value='', regex=True, inplace=True)\n",
    "nba_df.rename(columns={'W/L%': 'win_rate'}, inplace=True)\n",
    "nba_df['team'].replace({'Toronto Raptors': 'Raptors',\n",
    "                        'Boston Celtics': 'Celtics',\n",
    "                        'Philadelphia 76ers': '76ers',\n",
    "                        'Cleveland Cavaliers': 'Cavaliers',\n",
    "                        'Indiana Pacers': 'Pacers',\n",
    "                        'Miami Heat': 'Heat',\n",
    "                        'Milwaukee Bucks': 'Bucks',\n",
    "                        'Washington Wizards': 'Wizards',\n",
    "                        'Detroit Pistons': 'Pistons',\n",
    "                        'Charlotte Hornets': 'Hornets',\n",
    "                        'New York Knicks': 'Knicks',\n",
    "                        'Brooklyn Nets': 'Nets',\n",
    "                        'Chicago Bulls': 'Bulls',\n",
    "                        'Orlando Magic': 'Magic',\n",
    "                        'Atlanta Hawks': 'Hawks',\n",
    "                        'Houston Rockets': 'Rockets',\n",
    "                        'Golden State Warriors': 'Warriors',\n",
    "                        'Portland Trail Blazers': 'Trail Blazers',\n",
    "                        'Oklahoma City Thunder': 'Thunder',\n",
    "                        'Utah Jazz': 'Jazz',\n",
    "                        'New Orleans Pelicans': 'Pelicans',\n",
    "                        'San Antonio Spurs': 'Spurs',\n",
    "                        'Minnesota Timberwolves': 'Timberwolves',\n",
    "                        'Denver Nuggets': 'Nuggets',\n",
    "                        'Los Angeles Clippers': 'Clippers',\n",
    "                        'Los Angeles Lakers': 'Lakers',\n",
    "                        'Sacramento Kings': 'Kings',\n",
    "                        'Dallas Mavericks': 'Mavericks',\n",
    "                        'Memphis Grizzlies': 'Grizzlies',\n",
    "                        'Phoenix Suns': 'Suns'}, inplace=True)\n",
    "\n",
    "cities = cities.iloc[:, [0, 1, -2]]\n",
    "cities = cities.replace(to_replace='\\[(.*?)\\]', value='', regex=True)\n",
    "cities = cities.replace({'—': np.NaN, '': np.NaN}).dropna()\n",
    "cities.rename(columns={cities.columns[1]: 'population', cities.columns[0]: 'area'}, inplace=True)\n",
    "cities.loc[0].NBA = ['Knicks', 'Nets']\n",
    "cities.loc[1].NBA = ['Lakers', 'Clippers']\n",
    "cities = cities.explode('NBA').reset_index(drop=True)\n",
    "cities.rename(columns={'NBA': 'team'}, inplace=True)\n",
    "\n",
    "df = pd.merge(nba_df, cities, on='team')\n",
    "columns = ['W', 'L', 'win_rate', 'population']\n",
    "for col in columns:\n",
    "    df[col] = pd.to_numeric(df[col])\n",
    "\n",
    "def nba_correlation():\n",
    "    global data_nba\n",
    "    data_nba = df.groupby('area').mean()\n",
    "    \n",
    "    population_by_region = [i for i in data_nba.population] # pass in metropolitan area population from cities\n",
    "    win_loss_by_region = [i for i in data_nba.win_rate] # pass in win/loss ratio from nba_df in the same order as cities[\"Metropolitan area\"]\n",
    "\n",
    "    assert len(population_by_region) == len(win_loss_by_region), \"Q2: Your lists must be the same length\"\n",
    "    assert len(population_by_region) == 28, \"Q2: There should be 28 teams being analysed for NBA\"\n",
    "\n",
    "    return stats.pearsonr(population_by_region, win_loss_by_region)[0]"
   ]
  },
  {
   "cell_type": "code",
   "execution_count": null,
   "metadata": {
    "deletable": false,
    "editable": false,
    "nbgrader": {
     "checksum": "bbdeb8eb22f525a34c10dc8798324e42",
     "grade": true,
     "grade_id": "cell-e573b2b4a282b470",
     "locked": true,
     "points": 20,
     "schema_version": 1,
     "solution": false
    }
   },
   "outputs": [],
   "source": []
  },
  {
   "cell_type": "markdown",
   "metadata": {
    "deletable": false,
    "editable": false,
    "nbgrader": {
     "checksum": "1a1a5809f675ca033086422007cd73bd",
     "grade": false,
     "grade_id": "cell-96e15e4335df78f4",
     "locked": true,
     "schema_version": 1,
     "solution": false
    }
   },
   "source": [
    "## Question 3\n",
    "For this question, calculate the win/loss ratio's correlation with the population of the city it is in for the **MLB** using **2018** data."
   ]
  },
  {
   "cell_type": "code",
   "execution_count": 3,
   "metadata": {
    "deletable": false,
    "nbgrader": {
     "checksum": "27e8c0da6c9fa0dffc10488314335b6c",
     "grade": false,
     "grade_id": "cell-33b00fc3f3467b0c",
     "locked": false,
     "schema_version": 1,
     "solution": true
    },
    "scrolled": true
   },
   "outputs": [],
   "source": [
    "import pandas as pd\n",
    "import numpy as np\n",
    "import scipy.stats as stats\n",
    "import re\n",
    "\n",
    "mlb_df=pd.read_csv(\"assets/mlb.csv\")\n",
    "cities=pd.read_html(\"assets/wikipedia_data.html\")[1]\n",
    "cities=cities.iloc[:-1,[0,3,5,6,7,8]]\n",
    "\n",
    "mlb_df = mlb_df[mlb_df.year == 2018]\n",
    "mlb_df.rename(columns={'W-L%': 'win_rate'}, inplace=True)\n",
    "mlb_df = mlb_df[['team', 'win_rate']]\n",
    "mlb_df['team'].replace({\n",
    "    'Boston Red Sox': 'Red Sox',\n",
    "    'New York Yankees': 'Yankees',\n",
    "    'Tampa Bay Rays': 'Rays',\n",
    "    'Toronto Blue Jays': 'Blue Jays',\n",
    "    'Baltimore Orioles': 'Orioles',\n",
    "    'Cleveland Indians': 'Indians',\n",
    "    'Minnesota Twins': 'Twins',\n",
    "    'Detroit Tigers': 'Tigers',\n",
    "    'Chicago White Sox': 'White Sox',\n",
    "    'Kansas City Royals': 'Royals',\n",
    "    'Houston Astros': 'Astros',\n",
    "    'Oakland Athletics': 'Athletics',\n",
    "    'Seattle Mariners': 'Mariners',\n",
    "    'Los Angeles Angels': 'Angels',\n",
    "    'Texas Rangers': 'Rangers',\n",
    "    'Atlanta Braves': 'Braves',\n",
    "    'Washington Nationals': 'Nationals',\n",
    "    'Philadelphia Phillies': 'Phillies',\n",
    "    'New York Mets': 'Mets',\n",
    "    'Miami Marlins': 'Marlins',\n",
    "    'Milwaukee Brewers': 'Brewers',\n",
    "    'Chicago Cubs': 'Cubs',\n",
    "    'St. Louis Cardinals': 'Cardinals',\n",
    "    'Pittsburgh Pirates': 'Pirates',\n",
    "    'Cincinnati Reds': 'Reds',\n",
    "    'Los Angeles Dodgers': 'Dodgers',\n",
    "    'Colorado Rockies': 'Rockies',\n",
    "    'Arizona Diamondbacks': 'Diamondbacks',\n",
    "    'San Francisco Giants': 'Giants',\n",
    "    'San Diego Padres': 'Padres'}, inplace=True)\n",
    "\n",
    "cities = cities.iloc[:, [0, 1, -3]]\n",
    "cities = cities.replace({'—': np.nan, r'\\[note\\s\\d+\\]': ''}, regex=True).replace('', np.nan).dropna()\n",
    "cities.rename(columns={cities.columns[1]: 'population', cities.columns[0]: 'area'}, inplace=True)\n",
    "cities.loc[0].MLB = ['Yankees', 'Mets']\n",
    "cities.loc[1].MLB = ['Dodgers', 'Angels']\n",
    "cities.loc[2].MLB = ['Giants', 'Athletics']\n",
    "cities.loc[3].MLB = ['Cubs', 'White Sox']\n",
    "cities = cities.explode('MLB').reset_index(drop=True)\n",
    "cities.rename(columns={'MLB': 'team'}, inplace=True)\n",
    "\n",
    "df = pd.merge(mlb_df, cities, on='team')\n",
    "for col in ['win_rate', 'population']:\n",
    "    df[col] = pd.to_numeric(df[col])\n",
    "    \n",
    "    \n",
    "def mlb_correlation(): \n",
    "    global data_mlb\n",
    "    data_mlb = df.groupby('area').mean()\n",
    "    \n",
    "    population_by_region = [i for i in data_mlb.population] # pass in metropolitan area population from cities\n",
    "    win_loss_by_region = [i for i in data_mlb.win_rate] # pass in win/loss ratio from mlb_df in the same order as cities[\"Metropolitan area\"]\n",
    "\n",
    "    assert len(population_by_region) == len(win_loss_by_region), \"Q3: Your lists must be the same length\"\n",
    "    assert len(population_by_region) == 26, \"Q3: There should be 26 teams being analysed for MLB\"\n",
    "\n",
    "    return stats.pearsonr(population_by_region, win_loss_by_region)[0]"
   ]
  },
  {
   "cell_type": "code",
   "execution_count": null,
   "metadata": {
    "deletable": false,
    "editable": false,
    "nbgrader": {
     "checksum": "cda33b094ba19ccc37a481e0dd29e0bc",
     "grade": true,
     "grade_id": "cell-764d4476f425c5a2",
     "locked": true,
     "points": 20,
     "schema_version": 1,
     "solution": false
    }
   },
   "outputs": [],
   "source": []
  },
  {
   "cell_type": "markdown",
   "metadata": {
    "deletable": false,
    "editable": false,
    "nbgrader": {
     "checksum": "6977a6da9ed6d8b7a0b7e37bbeda709b",
     "grade": false,
     "grade_id": "cell-793df6c04dfb126e",
     "locked": true,
     "schema_version": 1,
     "solution": false
    }
   },
   "source": [
    "## Question 4\n",
    "For this question, calculate the win/loss ratio's correlation with the population of the city it is in for the **NFL** using **2018** data."
   ]
  },
  {
   "cell_type": "code",
   "execution_count": 4,
   "metadata": {
    "deletable": false,
    "nbgrader": {
     "checksum": "c4914ad1e119278ec2bd567c52640b66",
     "grade": false,
     "grade_id": "cell-8ccebc209aeec8d9",
     "locked": false,
     "schema_version": 1,
     "solution": true
    }
   },
   "outputs": [],
   "source": [
    "import pandas as pd\n",
    "import numpy as np\n",
    "import scipy.stats as stats\n",
    "import re\n",
    "\n",
    "nfl_df=pd.read_csv(\"assets/nfl.csv\")\n",
    "cities=pd.read_html(\"assets/wikipedia_data.html\")[1]\n",
    "cities=cities.iloc[:-1,[0,3,5,6,7,8]]\n",
    "\n",
    "nfl_df = nfl_df[nfl_df.year==2018]\n",
    "nfl_df = nfl_df[nfl_df.columns[[-2, -3]]]\n",
    "nfl_df = nfl_df[nfl_df.team.str.contains('FC') == False]\n",
    "nfl_df.rename(columns={'W-L%': 'win_rate'}, inplace=True)\n",
    "nfl_df.team = nfl_df.team.replace('[\\*\\+]', value='', regex=True)\n",
    "nfl_df.team.replace({\n",
    "        'New England Patriots': 'Patriots',\n",
    "        'Miami Dolphins': 'Dolphins',\n",
    "        'Buffalo Bills': 'Bills',\n",
    "        'New York Jets': 'Jets',\n",
    "        'Baltimore Ravens': 'Ravens',\n",
    "        'Pittsburgh Steelers': 'Steelers',\n",
    "        'Cleveland Browns': 'Browns',\n",
    "        'Cincinnati Bengals': 'Bengals',\n",
    "        'Houston Texans': 'Texans',\n",
    "        'Indianapolis Colts': 'Colts',\n",
    "        'Tennessee Titans': 'Titans',\n",
    "        'Jacksonville Jaguars': 'Jaguars',\n",
    "        'Kansas City Chiefs': 'Chiefs',\n",
    "        'Los Angeles Chargers': 'Chargers',\n",
    "        'Denver Broncos': 'Broncos',\n",
    "        'Oakland Raiders': 'Raiders',\n",
    "        'Dallas Cowboys': 'Cowboys',\n",
    "        'Philadelphia Eagles': 'Eagles',\n",
    "        'Washington Redskins': 'Redskins',\n",
    "        'New York Giants': 'Giants',\n",
    "        'Chicago Bears': 'Bears',\n",
    "        'Minnesota Vikings': 'Vikings',\n",
    "        'Green Bay Packers': 'Packers',\n",
    "        'Detroit Lions': 'Lions',\n",
    "        'New Orleans Saints': 'Saints',\n",
    "        'Carolina Panthers': 'Panthers',\n",
    "        'Atlanta Falcons': 'Falcons',\n",
    "        'Tampa Bay Buccaneers': 'Buccaneers',\n",
    "        'Los Angeles Rams': 'Rams',\n",
    "        'Seattle Seahawks': 'Seahawks',\n",
    "        'San Francisco 49ers': '49ers',\n",
    "        'Arizona Cardinals': 'Cardinals'}, inplace=True)\n",
    "\n",
    "cities = cities.iloc[:, [0, 1, 2]]\n",
    "cities.columns = ['area', 'population', 'team']\n",
    "cities = cities.replace({'—': np.NaN, '\\[note\\s\\d+\\]': ''}, regex=True).replace('', np.NaN).dropna()\n",
    "cities.loc[0].team = ['Giants', 'Jets']\n",
    "cities.loc[1].team = ['Rams', 'Chargers']\n",
    "cities.loc[2].team = ['49ers', 'Raiders']\n",
    "cities = cities.explode('team')\n",
    "\n",
    "df = pd.merge(nfl_df, cities, on='team')\n",
    "for col in ['win_rate', 'population']:\n",
    "    df[col] = pd.to_numeric(df[col])\n",
    "\n",
    "def nfl_correlation(): \n",
    "    global data_nfl\n",
    "    data_nfl = df.groupby('area').mean()\n",
    "    \n",
    "    population_by_region = [i for i in data_nfl.population] # pass in metropolitan area population from cities\n",
    "    win_loss_by_region = [i for i in data_nfl.win_rate] # pass in win/loss ratio from nfl_df in the same order as cities[\"Metropolitan area\"]\n",
    "\n",
    "    assert len(population_by_region) == len(win_loss_by_region), \"Q4: Your lists must be the same length\"\n",
    "    assert len(population_by_region) == 29, \"Q4: There should be 29 teams being analysed for NFL\"\n",
    "\n",
    "    return stats.pearsonr(population_by_region, win_loss_by_region)[0]"
   ]
  },
  {
   "cell_type": "code",
   "execution_count": null,
   "metadata": {
    "deletable": false,
    "editable": false,
    "nbgrader": {
     "checksum": "e9415d6399aa49e3a1a60813afdefa3b",
     "grade": true,
     "grade_id": "cell-de7b148b9554dbda",
     "locked": true,
     "points": 20,
     "schema_version": 1,
     "solution": false
    }
   },
   "outputs": [],
   "source": []
  },
  {
   "cell_type": "markdown",
   "metadata": {
    "deletable": false,
    "editable": false,
    "nbgrader": {
     "checksum": "b02d5cd3273f561e4ae939bb2a41740c",
     "grade": false,
     "grade_id": "cell-97b49d8639e908c4",
     "locked": true,
     "schema_version": 1,
     "solution": false
    }
   },
   "source": [
    "## Question 5\n",
    "In this question I would like you to explore the hypothesis that **given that an area has two sports teams in different sports, those teams will perform the same within their respective sports**. How I would like to see this explored is with a series of paired t-tests (so use [`ttest_rel`](https://docs.scipy.org/doc/scipy/reference/generated/scipy.stats.ttest_rel.html)) between all pairs of sports. Are there any sports where we can reject the null hypothesis? Again, average values where a sport has multiple teams in one region. Remember, you will only be including, for each sport, cities which have teams engaged in that sport, drop others as appropriate. This question is worth 20% of the grade for this assignment."
   ]
  },
  {
   "cell_type": "code",
   "execution_count": 5,
   "metadata": {
    "deletable": false,
    "nbgrader": {
     "checksum": "6d78c961eb66f8d8c81f06d33ae8f393",
     "grade": false,
     "grade_id": "cell-92f25f44b8d1179f",
     "locked": false,
     "schema_version": 1,
     "solution": true
    }
   },
   "outputs": [],
   "source": [
    "import pandas as pd\n",
    "import numpy as np\n",
    "import scipy.stats as stats\n",
    "import re\n",
    "\n",
    "def sports_team_performance():\n",
    "    data = [data_nfl, data_nba, data_nhl, data_mlb]\n",
    "    sports = ['NFL', 'NBA', 'NHL', 'MLB']\n",
    "    \n",
    "    for i in range(4):\n",
    "        data[i].rename(columns={'win_rate': f'win_rate_{sports[i]}'}, inplace=True)\n",
    "    \n",
    "    p_values = pd.DataFrame({k:np.nan for k in sports}, index=sports)\n",
    "    \n",
    "    for a in range(3):\n",
    "        for b in range(a+1, 4):\n",
    "            temp_df = pd.merge(data[a], data[b], on='area')\n",
    "            temp_df.groupby('area').mean()\n",
    "            p = stats.ttest_rel(temp_df[f'win_rate_{sports[a]}'], temp_df[f'win_rate_{sports[b]}'])[1]\n",
    "            p_values.loc[sports[a], sports[b]] = p\n",
    "            p_values.loc[sports[b], sports[a]] = p\n",
    "    \n",
    "    assert abs(p_values.loc[\"NBA\", \"NHL\"] - 0.02) <= 1e-2, \"The NBA-NHL p-value should be around 0.02\"\n",
    "    assert abs(p_values.loc[\"MLB\", \"NFL\"] - 0.80) <= 1e-2, \"The MLB-NFL p-value should be around 0.80\"\n",
    "    return p_values"
   ]
  },
  {
   "cell_type": "code",
   "execution_count": null,
   "metadata": {
    "deletable": false,
    "editable": false,
    "nbgrader": {
     "checksum": "2a596ab421a45cc01168d10e8fbb8f89",
     "grade": true,
     "grade_id": "cell-fb4b9cb5ff4570a6",
     "locked": true,
     "points": 20,
     "schema_version": 1,
     "solution": false
    }
   },
   "outputs": [],
   "source": []
  }
 ],
 "metadata": {
  "coursera": {
   "schema_names": [
    "mooc_adswpy_1_v2_assignment4"
   ]
  },
  "kernelspec": {
   "display_name": "Python 3",
   "language": "python",
   "name": "python3"
  },
  "language_info": {
   "codemirror_mode": {
    "name": "ipython",
    "version": 3
   },
   "file_extension": ".py",
   "mimetype": "text/x-python",
   "name": "python",
   "nbconvert_exporter": "python",
   "pygments_lexer": "ipython3",
   "version": "3.8.8"
  }
 },
 "nbformat": 4,
 "nbformat_minor": 4
}
